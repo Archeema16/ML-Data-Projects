{
 "cells": [
  {
   "cell_type": "markdown",
   "id": "82c18451",
   "metadata": {},
   "source": [
    "<b>Ensemble learning</b> combines several base algorithms to form one optimized predictive algorithm. Ensemble learning methods are employed for several reasons, each addressing specific challenges in machine learning:<br>\n",
    "1- <b>Improved Accuracy</b> (By combining the predictions of multiple models, ensemble methods can often achieve better performance than any individual model.)<br>\n",
    "2- <b>Robustness to Overfitting</b><br>\n",
    "3- <b>Handling Noisy Data</b><br>\n",
    "4- <b>Model Flexibility </b> (Ensemble methods can combine different types of models or variations of the same model to leverage their respective strengths. This flexibility allows ensemble methods to adapt to diverse types of data and modeling challenges.)<br>\n",
    "\n",
    "<b>Types Of Ensemble Methods</b><br>\n",
    "Ensemble Methods can be used for various reasons, mainly to:<br>\n",
    "Decrease Variance (Bagging)<br>\n",
    "Decrease Bias (Boosting)<br>\n",
    "Improve Predictions (Stacking)<br>"
   ]
  },
  {
   "cell_type": "code",
   "execution_count": null,
   "id": "eacb476a",
   "metadata": {},
   "outputs": [],
   "source": []
  }
 ],
 "metadata": {
  "kernelspec": {
   "display_name": "Python 3 (ipykernel)",
   "language": "python",
   "name": "python3"
  },
  "language_info": {
   "codemirror_mode": {
    "name": "ipython",
    "version": 3
   },
   "file_extension": ".py",
   "mimetype": "text/x-python",
   "name": "python",
   "nbconvert_exporter": "python",
   "pygments_lexer": "ipython3",
   "version": "3.10.12"
  }
 },
 "nbformat": 4,
 "nbformat_minor": 5
}
